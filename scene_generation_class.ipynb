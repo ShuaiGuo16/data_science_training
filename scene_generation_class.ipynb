{
 "cells": [
  {
   "cell_type": "code",
   "execution_count": null,
   "id": "9b90f58c",
   "metadata": {},
   "outputs": [],
   "source": [
    "from langchain.prompts import PromptTemplate\n",
    "from langchain.chat_models import ChatOpenAI, AzureChatOpenAI\n",
    "from langchain.llms import OpenAI, AzureOpenAI\n",
    "from langchain.memory import ConversationBufferMemory\n",
    "from langchain.prompts import (\n",
    "    ChatPromptTemplate, \n",
    "    MessagesPlaceholder, \n",
    "    SystemMessagePromptTemplate, \n",
    "    HumanMessagePromptTemplate\n",
    ")\n",
    "from langchain.chains import ConversationChain\n",
    "import utilities\n",
    "import os"
   ]
  },
  {
   "cell_type": "code",
   "execution_count": null,
   "id": "fbf7238b",
   "metadata": {},
   "outputs": [],
   "source": [
    "class SceneGenerator:\n",
    "    \n",
    "    def __init__(self, engine):       \n",
    "        \"\"\"Setup journalist bot.\n",
    "        \"\"\"   \n",
    "        \n",
    "        if engine == 'OpenAI':\n",
    "            self.llm = ChatOpenAI(\n",
    "                model_name='gpt-3.5-turbo',\n",
    "                temperature=0.8\n",
    "            )\n",
    "\n",
    "        elif engine == 'Azure':\n",
    "            self.llm = AzureChatOpenAI(openai_api_base=\"https://abb-chcrc.openai.azure.com/\",\n",
    "                    openai_api_version=\"2023-03-15-preview\",\n",
    "                    openai_api_key=os.environ[\"OPENAI_API_KEY_AZURE\"],\n",
    "                    openai_api_type=\"azure\",\n",
    "                    deployment_name=\"gpt-35-turbo-0301\",\n",
    "                    temperature=0.8)\n",
    "\n",
    "        else:\n",
    "            raise KeyError(\"Currently unsupported chat model type!\")\n",
    "            \n",
    "        # Instantiate memory\n",
    "        self.memory = ConversationBufferMemory(return_messages=True)\n",
    "        \n",
    "        \n",
    "        # Define prompt template\n",
    "        prompt = ChatPromptTemplate.from_messages([\n",
    "            MessagesPlaceholder(variable_name=\"history\"),\n",
    "            HumanMessagePromptTemplate.from_template(\"\"\"{input}\"\"\")\n",
    "        ])\n",
    "        \n",
    "        # Create conversation chain\n",
    "        self.conversation = ConversationChain(memory=self.memory, prompt=prompt, \n",
    "                                              llm=self.llm, verbose=False)\n",
    "        "
   ]
  }
 ],
 "metadata": {
  "kernelspec": {
   "display_name": "Python 3 (ipykernel)",
   "language": "python",
   "name": "python3"
  },
  "language_info": {
   "codemirror_mode": {
    "name": "ipython",
    "version": 3
   },
   "file_extension": ".py",
   "mimetype": "text/x-python",
   "name": "python",
   "nbconvert_exporter": "python",
   "pygments_lexer": "ipython3",
   "version": "3.10.11"
  }
 },
 "nbformat": 4,
 "nbformat_minor": 5
}
