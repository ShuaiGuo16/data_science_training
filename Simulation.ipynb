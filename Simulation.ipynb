{
 "cells": [
  {
   "cell_type": "markdown",
   "id": "41a442b1",
   "metadata": {},
   "source": [
    "### Objective\n",
    "\n",
    "In this notebook, we aim to develop the data scientist trainer that can simulate the process of defining a data science project."
   ]
  },
  {
   "cell_type": "markdown",
   "id": "bd08ff6a",
   "metadata": {},
   "source": [
    "### 1. Load libraries"
   ]
  },
  {
   "cell_type": "code",
   "execution_count": 1,
   "id": "74431a96",
   "metadata": {},
   "outputs": [],
   "source": [
    "from langchain.prompts import PromptTemplate\n",
    "from langchain.chat_models import ChatOpenAI, AzureChatOpenAI\n",
    "from langchain.llms import OpenAI, AzureOpenAI\n",
    "from langchain.memory import ConversationBufferMemory\n",
    "from langchain.prompts import (\n",
    "    ChatPromptTemplate, \n",
    "    MessagesPlaceholder, \n",
    "    SystemMessagePromptTemplate, \n",
    "    HumanMessagePromptTemplate\n",
    ")\n",
    "from langchain.chains import ConversationChain\n",
    "import utilities\n",
    "import os"
   ]
  },
  {
   "cell_type": "markdown",
   "id": "b4c688a5",
   "metadata": {},
   "source": [
    "### 2. Scenario generator"
   ]
  },
  {
   "cell_type": "code",
   "execution_count": 2,
   "id": "a1957ea0",
   "metadata": {},
   "outputs": [],
   "source": [
    "problem_type_list = [\"classification\", \"regression\", \"clustering\",\n",
    "                    \"anomaly detection\", \"recommendation\", \"time series analysis\",\n",
    "                    \"natural language processing\", \"computer vision\"]\n",
    "business_size_list = [\"small (less than 100 employees)\",\n",
    "                    \"Medium (100-500 employees)\",\n",
    "                    \"large (more than 500 employees)\"]\n",
    "industry_list = [\"healthcare\", \"finance\", \"retail\", \"technology\",\n",
    "                \"manufacturing\", \"transportation\", \"energy\",\n",
    "                \"real estate\", \"education\", \"government\", \"non-profit\"]"
   ]
  },
  {
   "cell_type": "code",
   "execution_count": 9,
   "id": "b07d08e2",
   "metadata": {},
   "outputs": [],
   "source": [
    "scen_generator = OpenAI(model_name=\"text-davinci-003\", temperature=1.0)"
   ]
  },
  {
   "cell_type": "code",
   "execution_count": 4,
   "id": "3853d7a4",
   "metadata": {},
   "outputs": [],
   "source": [
    "scen_generator = AzureOpenAI(\n",
    "                    deployment_name=\"deployment-5af509f3323342ee919481751c6f8b7d\",\n",
    "                    model_name=\"text-davinci-003\",\n",
    "                    openai_api_base=\"https://abb-chcrc.openai.azure.com/\",\n",
    "                    openai_api_version=\"2023-03-15-preview\",\n",
    "                    openai_api_key=os.environ[\"OPENAI_API_KEY_AZURE\"],\n",
    "                    openai_api_type=\"azure\",\n",
    "                    temperature=1.0\n",
    "                )"
   ]
  },
  {
   "cell_type": "code",
   "execution_count": 12,
   "id": "8df54582",
   "metadata": {},
   "outputs": [],
   "source": [
    "template = \"\"\"For a {industry} company of {business_size} size focusing on {problem_type} problems, \n",
    "generate a concrete data science project scenario that a data scientist might encounter in real life. \n",
    "Please provide concrete and specific details relevant to the selected industry and problem type.\n",
    "For example, if the industry is {industry}, the specific details could include {details}.\n",
    "\n",
    "For the generated scenario, please provide:\n",
    "1. A concrete, specific and realistic description of a problem faced by the company.\n",
    "2. The desired outcome that the company is hoping to achieve by solving the problem.\n",
    "3. A list of potential data sources that might be available for solving the problem.\n",
    "\n",
    "Output format:\n",
    "Problem description: [specific and realistic content of problem description]\n",
    "Desired outcome: [specific and realistic content of desired outcome]\n",
    "Available data: [list of potential data sources]\n",
    "\"\"\"\n",
    "\n",
    "prompt = PromptTemplate(\n",
    "    template=template,\n",
    "    input_variables=[\"industry\", \"business_size\", \"problem_type\", \"details\"],\n",
    ")"
   ]
  },
  {
   "cell_type": "markdown",
   "id": "fb68ec23",
   "metadata": {},
   "source": [
    "Please provide a concrete, specific, and realistic description of a problem faced by a medium-sized manufacturing company specializing in producing electronic devices. Include details such as the types of products manufactured, machines used in the production process, common issues faced by the company, and tools and technologies used for quality control.\n"
   ]
  },
  {
   "cell_type": "code",
   "execution_count": 14,
   "id": "783d1add",
   "metadata": {},
   "outputs": [
    {
     "name": "stdout",
     "output_type": "stream",
     "text": [
      "\n",
      "Problem description: A medium-sized manufacturing company is producing a wide variety of products such as electronic devices, furniture, and kitchen appliances. Currently, the company is facing a quality control problem because it is difficult to identify anomalous production results due to the uneven production environment. \n",
      "\n",
      "Desired outcome: The desired outcome for this company is to be able to accurately detect and identify anomalous production results through machine learning models to enable timely corrective action.\n",
      "\n",
      "Available data: The following data sources can be used to solve the problem: \n",
      "(1) Machine data: recorded data from various production machines such as temperature, pressure, and flow readings.\n",
      "(2) Specifications data: recorded specifications of parts used in the manufacturing process.\n",
      "(3) Quality assurance data: recorded raw material and finished product inspections info.\n",
      "(4) Production log data: recorded production logs from the factory. \n",
      "(5) Historical production data: recorded production data from previous batches and production cycles. \n",
      "(6) Product image data: recorded images of products in production process.\n"
     ]
    }
   ],
   "source": [
    "industry = \"manufacturing\"\n",
    "business_size = \"medium\"\n",
    "problem_type = \"anomaly detection\"\n",
    "details = \"Types of products manufactured, machines used in the production process, \\\n",
    "common issues faced by the company, tools and technologies used for quality control.\"\n",
    "\n",
    "# Generate scenarios\n",
    "response = scen_generator.predict(prompt.format(industry=industry, \n",
    "                                                business_size=business_size, \n",
    "                                                problem_type=problem_type,\n",
    "                                                details=details))\n",
    "print(response)"
   ]
  },
  {
   "cell_type": "markdown",
   "id": "33c36df7",
   "metadata": {},
   "source": [
    "#### Parse results"
   ]
  },
  {
   "cell_type": "code",
   "execution_count": null,
   "id": "09b88690",
   "metadata": {},
   "outputs": [],
   "source": [
    "scenario = {}\n",
    "sections = response.split('\\n')\n",
    "for section in sections:\n",
    "    if ': ' in section:\n",
    "        key, value = section.split(': ', 1)\n",
    "        scenario[key] = value"
   ]
  },
  {
   "cell_type": "markdown",
   "id": "0da992f0",
   "metadata": {},
   "source": [
    "### 3. Define two chatbots\n",
    "\n",
    "#### 3.1 Client bot"
   ]
  },
  {
   "cell_type": "code",
   "execution_count": null,
   "id": "48cd281c",
   "metadata": {},
   "outputs": [],
   "source": [
    "class ClientBot():\n",
    "    \"\"\"Class definition for the client bot, created with LangChain.\"\"\"\n",
    "\n",
    "    \n",
    "    def __init__(self, engine):\n",
    "        \"\"\"Setup journalist bot.\n",
    "        \"\"\"\n",
    "        \n",
    "        if engine == 'OpenAI':\n",
    "            self.llm = ChatOpenAI(\n",
    "                model_name='gpt-3.5-turbo',\n",
    "                temperature=0.8\n",
    "            )\n",
    "\n",
    "        elif engine == 'Azure':\n",
    "            self.llm = AzureChatOpenAI(openai_api_base=\"https://abb-chcrc.openai.azure.com/\",\n",
    "                    openai_api_version=\"2023-03-15-preview\",\n",
    "                    openai_api_key=os.environ[\"OPENAI_API_KEY_AZURE\"],\n",
    "                    openai_api_type=\"azure\",\n",
    "                    deployment_name=\"gpt-35-turbo-0301\",\n",
    "                    temperature=0.8)\n",
    "\n",
    "        else:\n",
    "            raise KeyError(\"Currently unsupported chat model type!\")\n",
    "            \n",
    "        \n",
    "        # Instantiate memory\n",
    "        self.memory = ConversationBufferMemory(return_messages=True)\n",
    "\n",
    "        \n",
    "    def instruct(self, industry, business_size, scenario):\n",
    "        \"\"\"Determine the context of client chatbot. \n",
    "        \"\"\"\n",
    "        \n",
    "        self.industry = industry\n",
    "        self.business_size = business_size\n",
    "        self.scenario = scenario\n",
    "        \n",
    "        # Define prompt template\n",
    "        prompt = ChatPromptTemplate.from_messages([\n",
    "            SystemMessagePromptTemplate.from_template(self._specify_system_message()),\n",
    "            MessagesPlaceholder(variable_name=\"history\"),\n",
    "            HumanMessagePromptTemplate.from_template(\"\"\"{input}\"\"\")\n",
    "        ])\n",
    "        \n",
    "        # Create conversation chain\n",
    "        self.conversation = ConversationChain(memory=self.memory, prompt=prompt, \n",
    "                                              llm=self.llm, verbose=False)\n",
    "        \n",
    "\n",
    "    def step(self, prompt):\n",
    "        \"\"\"Client chatbot speaks. \n",
    "        \"\"\"\n",
    "        response = self.conversation.predict(input=prompt)\n",
    "        \n",
    "        return response\n",
    "        \n",
    "\n",
    "    def _specify_system_message(self):\n",
    "        \"\"\"Specify the behavior of the client chatbot.\n",
    "        \"\"\"      \n",
    "        \n",
    "        # Prompt\n",
    "        prompt = f\"\"\"You are role-playing a representative from a {self.industry} company of {self.business_size} size and \n",
    "        you are meeting with a data scientist (which is played by another bot), to discuss how to leverage machine learning \n",
    "        to address a problem your company is facing. \n",
    "        \n",
    "        The problem description, desired outcome, and available data are:\n",
    "        {self.scenario}.\n",
    "        \n",
    "        Your ultimate goal is to work with the data scientist to define a clear problem and agree on a suitable data science solution or approach.\n",
    "\n",
    "        Guidelines to keep in mind:\n",
    "        - **Engage in Conversation**: You are only the client. Do not provide the entire conversation yourself.\n",
    "        - **Clarify and Confirm**: Always make sure to clarify and confirm the problem, desired outcome, and any proposed solutions with the data scientist. \n",
    "        - **Stay in Role**: Your role as a client is to represent your company's needs and work with the data scientist to define a clear problem and agree on a suitable data science solution or approach.\n",
    "        - **Provide Detailed Information**: Provide as much detail as possible about the problem, available data, constraints, and requirements. If the data scientist asks a question and the information was not provided in the problem description, it is okay to improvise and create details that seem reasonable.\n",
    "        - **Collaborate**: Collaborate with the data scientist to clearly define the problem and to consider any proposed solutions or approaches.\n",
    "        \"\"\"\n",
    "\n",
    "        return prompt"
   ]
  },
  {
   "cell_type": "markdown",
   "id": "9b0769bc",
   "metadata": {},
   "source": [
    "You are role-playing a representative from a {self.industry} company of {self.business_size} size and \n",
    "you are meeting with a data scientist (played by another bot) to discuss how to leverage machine learning \n",
    "to address a specific problem your company is facing. \n",
    "\n",
    "The problem description, desired outcome, and available data are:\n",
    "{self.scenario}.\n",
    "\n",
    "Your ultimate goal is to work with the data scientist to define a clear problem and agree on a suitable data science solution or approach.\n",
    "\n",
    "Guidelines to keep in mind:\n",
    "- **Get Straight to the Point**: Start the conversation by directly addressing the problem at hand. There is no need for pleasantries or introductions.\n",
    "- **Engage in Conversation**: Respond to the data scientist's questions and prompts. Do not provide all the information at once or provide the entire conversation yourself.\n",
    "- **Clarify and Confirm**: Always make sure to clarify and confirm the problem, desired outcome, and any proposed solutions with the data scientist.\n",
    "- **Stay in Role**: Your role as a client is to represent your company's needs and work with the data scientist to define a clear problem and agree on a suitable data science solution or approach.\n",
    "- **Provide Information as Needed**: Provide information about the problem, available data, constraints, and requirements as it becomes relevant in the conversation. If the data scientist asks a question and the information was not provided in the problem description, it is okay to improvise and create details that seem reasonable.\n",
    "- **Collaborate**: Collaborate with the data scientist to clearly define the problem and to consider any proposed solutions or approaches.\n"
   ]
  },
  {
   "cell_type": "markdown",
   "id": "d02dbd73",
   "metadata": {},
   "source": [
    "#### 3.2 Data scientist bot"
   ]
  },
  {
   "cell_type": "code",
   "execution_count": null,
   "id": "e2a6a968",
   "metadata": {},
   "outputs": [],
   "source": [
    "class DataScientistBot():\n",
    "    \"\"\"Class definition for the data scientist bot, created with LangChain.\"\"\"\n",
    "\n",
    "    \n",
    "    def __init__(self, engine):\n",
    "        \"\"\"Setup journalist bot.\n",
    "        \"\"\"\n",
    "        \n",
    "        if engine == 'OpenAI':\n",
    "            self.llm = ChatOpenAI(\n",
    "                model_name='gpt-3.5-turbo',\n",
    "                temperature=0.8\n",
    "            )\n",
    "\n",
    "        elif engine == 'Azure':\n",
    "            self.llm = AzureChatOpenAI(openai_api_base=\"https://abb-chcrc.openai.azure.com/\",\n",
    "                    openai_api_version=\"2023-03-15-preview\",\n",
    "                    openai_api_key=os.environ[\"OPENAI_API_KEY_AZURE\"],\n",
    "                    openai_api_type=\"azure\",\n",
    "                    deployment_name=\"gpt-35-turbo-0301\",\n",
    "                    temperature=0.8)\n",
    "\n",
    "        else:\n",
    "            raise KeyError(\"Currently unsupported chat model type!\")\n",
    "            \n",
    "        \n",
    "        # Instantiate memory\n",
    "        self.memory = ConversationBufferMemory(return_messages=True)\n",
    "\n",
    "        \n",
    "    def instruct(self, industry, business_size, scenario):\n",
    "        \"\"\"Determine the context of data scientist chatbot. \n",
    "        \"\"\"\n",
    "        \n",
    "        self.industry = industry\n",
    "        self.business_size = business_size\n",
    "        self.problem_type = problem_type\n",
    "        \n",
    "        # Define prompt template\n",
    "        prompt = ChatPromptTemplate.from_messages([\n",
    "            SystemMessagePromptTemplate.from_template(self._specify_system_message()),\n",
    "            MessagesPlaceholder(variable_name=\"history\"),\n",
    "            HumanMessagePromptTemplate.from_template(\"\"\"{input}\"\"\")\n",
    "        ])\n",
    "        \n",
    "        # Create conversation chain\n",
    "        self.conversation = ConversationChain(memory=self.memory, prompt=prompt, \n",
    "                                              llm=self.llm, verbose=False)\n",
    "        \n",
    "\n",
    "    def step(self, prompt):\n",
    "        \"\"\"Data scientist chatbot speaks. \n",
    "        \"\"\"\n",
    "        response = self.conversation.predict(input=prompt)\n",
    "        \n",
    "        return response\n",
    "        \n",
    "\n",
    "    def _specify_system_message(self):\n",
    "        \"\"\"Specify the behavior of the data scientist chatbot.\n",
    "        \"\"\"      \n",
    "        \n",
    "        # Prompt\n",
    "        prompt = f\"\"\"You are role-playing a data scientist meeting with a representative (which is played by another chatbot) \n",
    "        from a {self.industry} company of {self.business_size} size. They are currently concerned with \n",
    "        a {self.problem_type} problem.\n",
    "\n",
    "        Your ultimate goal is to understand the problem in depth and agree on a suitable data science solution or approach \n",
    "        by engaging in a conversation with the client representative. \n",
    "\n",
    "        Guidelines to keep in mind:\n",
    "        - **Engage in Conversation**: You are only the data scientist. Do not provide the entire conversation yourself.\n",
    "        - **Understand the Problem**: Make sure to ask questions to get a clear and detailed understanding of the problem, the desired outcome, available data, constraints, and requirements.\n",
    "        - **Propose Solutions**: Based on the information provided by the client, suggest possible data science approaches or solutions to address the problem.\n",
    "        - **Consider Constraints**: Be mindful of any constraints that the client may have, such as budget, timeline, or data limitations, and tailor your proposed solutions accordingly.\n",
    "        - **Collaborate**: Collaborate with the client to refine the problem definition, proposed solutions, and ultimately agree on a suitable data science approach.\n",
    "        \"\"\"\n",
    "\n",
    "        return prompt"
   ]
  },
  {
   "cell_type": "markdown",
   "id": "b6d11f5a",
   "metadata": {},
   "source": [
    "### 4. Simulating the conversation"
   ]
  },
  {
   "cell_type": "code",
   "execution_count": null,
   "id": "651ad26a",
   "metadata": {},
   "outputs": [],
   "source": [
    "# Create two chatbots\n",
    "client = ClientBot('Azure')\n",
    "data_scientist = DataScientistBot('Azure')\n",
    "\n",
    "# Specify instructions\n",
    "client.instruct(industry, business_size, response)\n",
    "data_scientist.instruct(industry, business_size, problem_type)"
   ]
  },
  {
   "cell_type": "code",
   "execution_count": null,
   "id": "332ed4a3",
   "metadata": {
    "scrolled": false
   },
   "outputs": [],
   "source": [
    "# Book-keeping\n",
    "question_list = []\n",
    "answer_list = []\n",
    "\n",
    "# Start conversation\n",
    "for i in range(6):\n",
    "    if i == 0:\n",
    "        question = client.step('Start the conversation')\n",
    "    else:\n",
    "        question = client.step(answer)\n",
    "    question_list.append(question)\n",
    "    print(\"👨‍💼 Client: \" + question)\n",
    "    \n",
    "    answer = data_scientist.step(question)\n",
    "    answer_list.append(answer)\n",
    "\n",
    "    print(\"👩‍💻 Data Scientist: \" + answer)\n",
    "    print(\"\\n\\n\")"
   ]
  },
  {
   "cell_type": "markdown",
   "id": "a3ff2d98",
   "metadata": {},
   "source": [
    "### Prompt repository"
   ]
  },
  {
   "cell_type": "markdown",
   "id": "b4239d57",
   "metadata": {},
   "source": [
    "#### Client bot"
   ]
  },
  {
   "cell_type": "code",
   "execution_count": null,
   "id": "975c16d4",
   "metadata": {},
   "outputs": [],
   "source": [
    "prompt = f\"\"\"You are role-playing a representative from a {self.industry} company of {self.business_size} size and \n",
    "you are meeting with a data scientist (which is played by another bot), to discuss how to leverage machine learning \n",
    "to address a problem your company is facing. \n",
    "\n",
    "The problem description, desired outcome, and available data are:\n",
    "{self.scenario}.\n",
    "\n",
    "Your ultimate goal is to work with the data scientist to define a clear problem and agree on a suitable data science solution or approach.\n",
    "\n",
    "Guidelines to keep in mind:\n",
    "- **Engage in Conversation**: You are only the client. Do not provide the entire conversation yourself.\n",
    "- **Clarify and Confirm**: Always make sure to clarify and confirm the problem, desired outcome, and any proposed solutions with the data scientist. \n",
    "- **Stay in Role**: Your role as a client is to represent your company's needs and work with the data scientist to define a clear problem and agree on a suitable data science solution or approach.\n",
    "- **Provide Detailed Information**: Provide as much detail as possible about the problem, available data, constraints, and requirements. If the data scientist asks a question and the information was not provided in the problem description, it is okay to improvise and create details that seem reasonable.\n",
    "- **Collaborate**: Collaborate with the data scientist to clearly define the problem and to consider any proposed solutions or approaches.\n",
    "\"\"\""
   ]
  }
 ],
 "metadata": {
  "kernelspec": {
   "display_name": "Python 3 (ipykernel)",
   "language": "python",
   "name": "python3"
  },
  "language_info": {
   "codemirror_mode": {
    "name": "ipython",
    "version": 3
   },
   "file_extension": ".py",
   "mimetype": "text/x-python",
   "name": "python",
   "nbconvert_exporter": "python",
   "pygments_lexer": "ipython3",
   "version": "3.10.11"
  }
 },
 "nbformat": 4,
 "nbformat_minor": 5
}
