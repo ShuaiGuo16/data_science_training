{
 "cells": [
  {
   "cell_type": "markdown",
   "id": "f25b3b35",
   "metadata": {},
   "source": [
    "### Objective\n",
    "\n",
    "In this notebook, we develop an LLM workflow to generate a specific data science scenario"
   ]
  },
  {
   "cell_type": "code",
   "execution_count": 1,
   "id": "88b4ff66",
   "metadata": {},
   "outputs": [],
   "source": [
    "from langchain.prompts import PromptTemplate\n",
    "from langchain.chat_models import ChatOpenAI\n",
    "from langchain.llms import OpenAI, AzureOpenAI\n",
    "from langchain.memory import ConversationBufferMemory\n",
    "from langchain.prompts import (\n",
    "    ChatPromptTemplate, \n",
    "    MessagesPlaceholder, \n",
    "    SystemMessagePromptTemplate, \n",
    "    HumanMessagePromptTemplate\n",
    ")\n",
    "from langchain.chains import ConversationChain\n",
    "import utilities\n",
    "import os"
   ]
  },
  {
   "cell_type": "code",
   "execution_count": 2,
   "id": "6a6bb8bd",
   "metadata": {},
   "outputs": [],
   "source": [
    "problem_type_list = [\"classification\", \"regression\", \"clustering\",\n",
    "                    \"anomaly detection\", \"recommendation\", \"time series analysis\",\n",
    "                    \"natural language processing\", \"computer vision\"]\n",
    "business_size_list = [\"small (less than 100 employees)\",\n",
    "                    \"Medium (100-500 employees)\",\n",
    "                    \"large (more than 500 employees)\"]\n",
    "industry_list = [\"healthcare\", \"finance\", \"retail\", \"technology\",\n",
    "                \"manufacturing\", \"transportation\", \"energy\",\n",
    "                \"real estate\", \"education\", \"government\", \"non-profit\"]"
   ]
  },
  {
   "cell_type": "code",
   "execution_count": null,
   "id": "724cc05a",
   "metadata": {},
   "outputs": [],
   "source": [
    "scen_generator = ChatOpenAI(model_name='gpt-3.5-turbo', temperature=1.0)\n",
    "memory = ConversationBufferMemory(return_messages=True)\n",
    "prompt = ChatPromptTemplate.from_messages([\n",
    "    MessagesPlaceholder(variable_name=\"history\"),\n",
    "    HumanMessagePromptTemplate.from_template(\"\"\"{input}\"\"\")\n",
    "])\n",
    "\n",
    "conversation = ConversationChain(memory=memory, prompt=prompt, \n",
    "                                  llm=scen_generator, verbose=False)"
   ]
  },
  {
   "cell_type": "code",
   "execution_count": null,
   "id": "92b6d6ae",
   "metadata": {},
   "outputs": [],
   "source": [
    "# Generate description of the scenario\n",
    "industry = \"manufacturing\"\n",
    "business_size = \"medium\"\n",
    "problem_type = \"anomaly detection\"\n",
    "\n",
    "# Prompt\n",
    "scene_generation = f\"\"\"Given a {industry} company of {business_size} size focusing on {problem_type} problems, \n",
    "generate a detailed and specific data science project scenario. Please provide:\n",
    "1. A detailed description of the problem faced by the company.\n",
    "2. The desired outcome from solving the problem.\n",
    "3. The type of data that might be available for solving the problem.\n",
    "\n",
    "Output format:\n",
    "Problem description: [content of problem description]\n",
    "Desired outcome: [content of desired outcome]\n",
    "Data availability: [content of data availability]\n",
    "\"\"\"\n",
    "\n",
    "response = conversation.predict(input=scene_generation)\n",
    "print(response)"
   ]
  },
  {
   "cell_type": "code",
   "execution_count": null,
   "id": "fcb92053",
   "metadata": {},
   "outputs": [],
   "source": [
    "# Prompt\n",
    "additional_aspects = f\"\"\"Based on the scenario generated, please provide additional details that are \n",
    "relevant to defining and scoping the data science project. For example, consider the following aspects:\n",
    "- Constraints: Any constraints that must be considered when solving the problem.\n",
    "- Current System: A description of the current system or process in place.\n",
    "- Success Metrics: How success will be measured for this project.\n",
    "- Stakeholders: Key stakeholders involved in the project.\n",
    "- Technical Infrastructure: The technical infrastructure available or required for the project.\n",
    "- Data Privacy and Security: Any data privacy and security considerations that must be taken into account.\n",
    "\n",
    "Output format:\n",
    "[aspect name]: [aspect content]\n",
    "\"\"\"\n",
    "\n",
    "response = conversation.predict(input=additional_aspects)\n",
    "print(response)"
   ]
  },
  {
   "cell_type": "markdown",
   "id": "9a68d47b",
   "metadata": {},
   "source": [
    "### Strategy 2"
   ]
  },
  {
   "cell_type": "code",
   "execution_count": null,
   "id": "be65b259",
   "metadata": {},
   "outputs": [],
   "source": [
    "scene_generator = OpenAI(model_name=\"text-davinci-003\", temperature=1.0)"
   ]
  },
  {
   "cell_type": "code",
   "execution_count": null,
   "id": "8fb001d4",
   "metadata": {},
   "outputs": [],
   "source": [
    "template = \"\"\"For a {industry} company of {business_size} size facing {problem_type} problems, \n",
    "generate a detailed and specific data science project scenario. Please provide:\n",
    "\n",
    "1. A detailed description of the problem faced by the company, including any specific challenges, constraints, or requirements.\n",
    "2. A detailed description of the desired outcome from solving the problem, including any specific goals, metrics, or success criteria.\n",
    "3. A detailed description of the type of data that might be available for solving the problem, \n",
    "including any specific data sources, data types, or data formats.\n",
    "\n",
    "Your output format should be:\n",
    "Problem description: [content of problem description]\n",
    "Desired outcome: [content of desired outcome]\n",
    "Available data: [content of available data types]\n",
    "Constraints and requirements: [content of constraints and requirements]\n",
    "\n",
    "Make sure that the generated scenario is realistic and typical of the problems that a company in the {industry} \n",
    "industry might encounter.\n",
    "\"\"\"\n",
    "\n",
    "prompt = PromptTemplate(\n",
    "    template=template,\n",
    "    input_variables=[\"industry\", \"business_size\", \"problem_type\"],\n",
    ")"
   ]
  },
  {
   "cell_type": "code",
   "execution_count": null,
   "id": "a1ba43cd",
   "metadata": {},
   "outputs": [],
   "source": [
    "industry = \"manufacturing\"\n",
    "business_size = \"medium\"\n",
    "problem_type = \"anomaly detection\"\n",
    "\n",
    "# Generate scenarios\n",
    "response = scen_generator.predict(prompt.format(industry=industry, \n",
    "                                                business_size=business_size, \n",
    "                                                problem_type=problem_type))\n",
    "print(response)"
   ]
  },
  {
   "cell_type": "markdown",
   "id": "fa7b383d",
   "metadata": {},
   "source": [
    "### Strategy 3\n",
    "\n",
    "We don't ask the LLM to provide constraints, but only focus on problem description, desired outcome, and data availability. Our goal is to get specific scenario description. For that, we divide the task into two steps, where in the first step, we prompt the LLM to generate a generic scenario, and in the second step, we prompt the LLM to fill in te details."
   ]
  },
  {
   "cell_type": "code",
   "execution_count": 3,
   "id": "c194906c",
   "metadata": {},
   "outputs": [],
   "source": [
    "# Initialize an LLM\n",
    "scen_generator = AzureOpenAI(\n",
    "                    deployment_name=\"deployment-5af509f3323342ee919481751c6f8b7d\",\n",
    "                    model_name=\"text-davinci-003\",\n",
    "                    openai_api_base=\"https://abb-chcrc.openai.azure.com/\",\n",
    "                    openai_api_version=\"2023-03-15-preview\",\n",
    "                    openai_api_key=os.environ[\"OPENAI_API_KEY_AZURE\"],\n",
    "                    openai_api_type=\"azure\",\n",
    "                    temperature=1.0\n",
    "                )"
   ]
  },
  {
   "cell_type": "code",
   "execution_count": 23,
   "id": "5d823153",
   "metadata": {},
   "outputs": [],
   "source": [
    "# 1st Stage\n",
    "template = \"\"\"For a {industry} company of {business_size} size focusing on {problem_type} problems, \n",
    "generate a concrete data science project scenario that a data scientist might encounter in real life. \n",
    "Please provide concrete and specific details relevant to the selected industry and problem type.\n",
    "\n",
    "For the generated scenario, please provide:\n",
    "1. A specific and realistic description of a problem faced by the company.\n",
    "2. The desired outcome that the company is hoping to achieve by solving the problem.\n",
    "3. A list of potential data sources that might be available for solving the problem.\n",
    "\n",
    "Output format:\n",
    "Problem description: \\n\n",
    "[content of problem description]\n",
    "Desired outcome: \\n\n",
    "[content of desired outcome]\n",
    "Available data: \\n\n",
    "[list of potential data sources]\n",
    "\n",
    "\"\"\"\n",
    "\n",
    "prompt = PromptTemplate(\n",
    "    template=template,\n",
    "    input_variables=[\"industry\", \"business_size\", \"problem_type\"],\n",
    ")"
   ]
  },
  {
   "cell_type": "code",
   "execution_count": 34,
   "id": "27aac86a",
   "metadata": {},
   "outputs": [
    {
     "name": "stdout",
     "output_type": "stream",
     "text": [
      "\n",
      "Problem description: \n",
      "The manufacturing company produces goods in large volumes and runs extensive production lines. Due to the large number of production items, the company often finds small anomalies or errors that lead to a waste of resources. As such, the company is striving to develop a system to detect and identify these anomalies in an automated way, which can save considerable time and resources. \n",
      "\n",
      "Desired outcome: \n",
      "The company wants to develop a system to identify anomalies on the production line, allowing the production process to be more efficient and to reduce waste, while ensuring a high-quality output.\n",
      "\n",
      "Available data sources: \n",
      "1. Production records containing information such as production date, production volumes, quality records, and any other relevant production-related data. \n",
      "2. Environmental conditions (temperature, humidity, etc.)\n",
      "3. Product specifications (dimensions, design parameters, etc.)\n",
      "4. Machine data (performance, logs, etc.)\n",
      "5. Human resource records (employee shift information, etc.)\n",
      "6. Market data (supply/demand, pricing, etc.)\n"
     ]
    }
   ],
   "source": [
    "industry = \"manufacturing\"\n",
    "business_size = \"medium\"\n",
    "problem_type = \"anomaly detection\"\n",
    "\n",
    "# Generate scenarios\n",
    "response = scen_generator.predict(prompt.format(industry=industry, \n",
    "                                                business_size=business_size, \n",
    "                                                problem_type=problem_type))\n",
    "print(response)"
   ]
  },
  {
   "cell_type": "code",
   "execution_count": 35,
   "id": "7f745b90",
   "metadata": {},
   "outputs": [
    {
     "data": {
      "text/plain": [
       "['',\n",
       " 'Problem description: ',\n",
       " 'The manufacturing company produces goods in large volumes and runs extensive production lines. Due to the large number of production items, the company often finds small anomalies or errors that lead to a waste of resources. As such, the company is striving to develop a system to detect and identify these anomalies in an automated way, which can save considerable time and resources. ',\n",
       " '',\n",
       " 'Desired outcome: ',\n",
       " 'The company wants to develop a system to identify anomalies on the production line, allowing the production process to be more efficient and to reduce waste, while ensuring a high-quality output.',\n",
       " '',\n",
       " 'Available data sources: ',\n",
       " '1. Production records containing information such as production date, production volumes, quality records, and any other relevant production-related data. ',\n",
       " '2. Environmental conditions (temperature, humidity, etc.)',\n",
       " '3. Product specifications (dimensions, design parameters, etc.)',\n",
       " '4. Machine data (performance, logs, etc.)',\n",
       " '5. Human resource records (employee shift information, etc.)',\n",
       " '6. Market data (supply/demand, pricing, etc.)']"
      ]
     },
     "execution_count": 35,
     "metadata": {},
     "output_type": "execute_result"
    }
   ],
   "source": [
    "response.split('\\n')"
   ]
  },
  {
   "cell_type": "code",
   "execution_count": 32,
   "id": "d722efda",
   "metadata": {},
   "outputs": [],
   "source": [
    "scenario = {}\n",
    "sections = response.split('\\n')\n",
    "for i, section in enumerate(sections):\n",
    "    if ':' in section:\n",
    "        key, value = section.split(':', 1)\n",
    "        scenario[key] = sections[i+1]"
   ]
  },
  {
   "cell_type": "code",
   "execution_count": 33,
   "id": "291f9192",
   "metadata": {},
   "outputs": [
    {
     "data": {
      "text/plain": [
       "{'Problem description': 'The manufacturing company has experienced significant losses due to defects in their production process. With increasingly complex production processes and tight deadlines, it is becoming increasingly difficult for workers to identify anomalies or faulty products before they are shipped out. ',\n",
       " 'Desired outcome': 'The manufacturing company would like to be able to detect anomalies in their product processes as efficiently as possible in order to minimize losses and increase customer satisfaction. ',\n",
       " 'Available data': '1. Historical records of product defects.'}"
      ]
     },
     "execution_count": 33,
     "metadata": {},
     "output_type": "execute_result"
    }
   ],
   "source": [
    "scenario"
   ]
  },
  {
   "cell_type": "code",
   "execution_count": 36,
   "id": "019f8c0e",
   "metadata": {},
   "outputs": [],
   "source": [
    "# 2nd stage\n",
    "template = \"\"\"Enrich the problem description below by providing more specific details (such as {details}) \n",
    "about the problem.\n",
    "\n",
    "problem description: {problem}\n",
    "\n",
    "Output format:\n",
    "Problem description: [content of problem description]\n",
    "Desired outcome: [copy of desired outcome in the provided problem description]\n",
    "Available data: [copy of potential data sources in the provided problem description]\n",
    "\"\"\"\n",
    "\n",
    "prompt = PromptTemplate(\n",
    "    template=template,\n",
    "    input_variables=[\"details\", \"problem\"],\n",
    ")"
   ]
  },
  {
   "cell_type": "code",
   "execution_count": 37,
   "id": "ef2cde91",
   "metadata": {},
   "outputs": [
    {
     "name": "stdout",
     "output_type": "stream",
     "text": [
      "\n",
      "Enrichment: \n",
      "Types of Products Manufactured: The manufacturing company produces a variety of products, ranging from consumer electronics to automotive parts. \n",
      "\n",
      "Machines Used in Production Process: The company uses a combination of automated and manual machines to produce their goods, including robotic arms, conveyor belts, and injection molding machines. \n",
      "\n",
      "Common Issues Faced by the Company: Common issues faced by the company include quality control issues due to minor imperfections in production, high levels of scrap due to production errors, and long lead times due to inefficient production processes. \n",
      "\n",
      "Tools and Technologies Used for Quality Control: The company uses various tools and technologies for quality control, including automated visual inspection systems, automated testing platforms, and computerized measurement systems.\n"
     ]
    }
   ],
   "source": [
    "details = \"Types of products manufactured, machines used in the production process, \\\n",
    "common issues faced by the company, tools and technologies used for quality control.\"\n",
    "\n",
    "# Generate scenarios\n",
    "detailed_response = scen_generator.predict(prompt.format(details=details,\n",
    "                                               problem=response))\n",
    "print(detailed_response)"
   ]
  },
  {
   "cell_type": "markdown",
   "id": "8a249142",
   "metadata": {},
   "source": [
    "### Strategy 4\n",
    "\n",
    "Solve the same problem in a chat environment"
   ]
  },
  {
   "cell_type": "code",
   "execution_count": 50,
   "id": "7ad09dc3",
   "metadata": {},
   "outputs": [],
   "source": [
    "scen_generator = ChatOpenAI(model_name='gpt-3.5-turbo', temperature=1.0)\n",
    "memory = ConversationBufferMemory(return_messages=True)\n",
    "prompt = ChatPromptTemplate.from_messages([\n",
    "    MessagesPlaceholder(variable_name=\"history\"),\n",
    "    HumanMessagePromptTemplate.from_template(\"\"\"{input}\"\"\")\n",
    "])\n",
    "\n",
    "conversation = ConversationChain(memory=memory, prompt=prompt, \n",
    "                                  llm=scen_generator, verbose=False)"
   ]
  },
  {
   "cell_type": "code",
   "execution_count": 51,
   "id": "4ed7dea8",
   "metadata": {},
   "outputs": [
    {
     "name": "stdout",
     "output_type": "stream",
     "text": [
      "Problem description: \n",
      "\n",
      "A medium-sized manufacturing company that produces automotive parts is facing a problem with quality control. The company has been experiencing an increasing number of defective products, leading to customer complaints and returns. The defect rate has been steadily rising, causing the company to incur additional costs for rework and affecting customer satisfaction. The company wants to identify the root cause of the defects and implement measures to reduce the defect rate.\n",
      "\n",
      "Desired outcome: \n",
      "\n",
      "The company aims to identify the factors contributing to the increasing defect rate and develop a predictive model to detect anomalies during the manufacturing process. Ultimately, the goal is to reduce the defect rate to an acceptable level, improve product quality, and minimize customer complaints and returns.\n",
      "\n",
      "Available data: \n",
      "\n",
      "1. Manufacturing data: The company keeps records of various manufacturing parameters such as temperature, pressure, speed, and time for each step of the production process. This data includes details about the machines used, materials used, and timestamps.\n",
      "\n",
      "2. Quality control data: The company also has data from quality control inspections, which include measurements and visual inspections of the finished products. This data includes information about specific product defects, categorizations, and timestamps.\n",
      "\n",
      "3. Maintenance data: Information about machine maintenance and repairs is available, including logs of scheduled maintenance activities, unplanned downtime, and replacement of parts. This data can provide insights into any correlation between machine performance and the defect rate.\n",
      "\n",
      "By analyzing these three data sources, an anomaly detection model can be built to identify patterns or anomalies that contribute to the defect rate. This will allow the company to take proactive measures to improve the manufacturing process, reduce defects, and enhance product quality.\n"
     ]
    }
   ],
   "source": [
    "# Generate description of the scenario\n",
    "industry = \"manufacturing\"\n",
    "business_size = \"medium\"\n",
    "problem_type = \"anomaly detection\"\n",
    "\n",
    "# Prompt\n",
    "scene_generation = f\"\"\"For a {industry} company of {business_size} size focusing on {problem_type} problems, \n",
    "generate a concrete data science project scenario that a data scientist might encounter in real life. \n",
    "Please provide concrete and specific details relevant to the selected industry and problem type.\n",
    "\n",
    "For the generated scenario, please provide:\n",
    "1. A specific and realistic description of a problem faced by the company.\n",
    "2. The desired outcome that the company is hoping to achieve by solving the problem.\n",
    "3. A list of the top 3 most relevant data sources that might be available for solving the problem.\n",
    "\n",
    "Output format:\n",
    "Problem description: [content of problem description]\n",
    "Desired outcome: [content of desired outcome]\n",
    "Available data: [content of available data]\n",
    "\"\"\"\n",
    "\n",
    "response = conversation.predict(input=scene_generation)\n",
    "print(response)"
   ]
  },
  {
   "cell_type": "code",
   "execution_count": 52,
   "id": "adc12037",
   "metadata": {},
   "outputs": [
    {
     "name": "stdout",
     "output_type": "stream",
     "text": [
      "Enriched problem description:\n",
      "\n",
      "A medium-sized manufacturing company in the automotive industry specializes in producing engine components. They have a range of products such as piston rings, crankshafts, and cylinder heads. The production process involves multiple steps, including machining, heat treatment, and assembly. The company uses various machines, such as CNC (Computer Numerical Control) machines for precision cutting, hydraulic presses for forging, and robotic arms for assembly.\n",
      "\n",
      "Recently, the company has been facing a rise in product defects, including dimensional inaccuracies, improper surface finishes, and misalignments. These defects not only affect the performance and reliability of the products but also lead to customer complaints and returns. The company's quality control team has been struggling to identify the root causes of these defects, as they occur across different stages of the production process.\n",
      "\n",
      "Desired outcome:\n",
      "\n",
      "The company aims to pinpoint the specific factors in the manufacturing process that contribute to the increasing defect rate. By doing so, they can focus on improving those areas to reduce defects and improve product quality. The desired outcome is to develop a predictive model that can detect anomalies in real-time during the production process. This will enable the implementation of proactive measures to prevent defects and minimize customer complaints and returns.\n",
      "\n",
      "Available data:\n",
      "\n",
      "1. Manufacturing data: The company collects data on various manufacturing parameters for each step of the production process. This includes information on machine settings, such as cutting speeds and pressures, as well as material properties, such as hardness and composition. The data is timestamped and associated with specific products and machines used.\n",
      "\n",
      "2. Quality control data: The company maintains records of quality control inspections conducted on the finished products. This data captures measurements, such as dimensional tolerances, surface roughness, and material properties. Visual inspections are also recorded, noting any visible defects such as cracks or deformations. The data includes categorizations of defects and timestamps.\n",
      "\n",
      "3. Maintenance data: The company tracks maintenance activities for machines, including scheduled maintenance and repairs. This data provides insights into the performance and reliability of machines over time, helping to identify any correlations between machine issues and the defect rate.\n",
      "\n",
      "The company currently uses statistical process control techniques and manual inspections for quality control. They also employ tools such as coordinate measuring machines (CMMs) and vision systems for dimensional accuracy and surface finish measurements, respectively. The available data sources, along with additional data generated from these quality control tools, can be utilized to develop a robust anomaly detection model.\n"
     ]
    }
   ],
   "source": [
    "# Prompt\n",
    "additional_details = f\"\"\"Based on the previously generated scenario, please enrich the problem description \n",
    "by providing more specific details (such as {details}) about the problem.\n",
    "\n",
    "Output format:\n",
    "Enriched problem description: [content of enriched problem description]\n",
    "Desired outcome: [content of desired outcome]\n",
    "Available data: [content of available data]\n",
    "\"\"\"\n",
    "\n",
    "response = conversation.predict(input=additional_details)\n",
    "print(response)"
   ]
  },
  {
   "cell_type": "code",
   "execution_count": null,
   "id": "381d4b5e",
   "metadata": {},
   "outputs": [],
   "source": []
  }
 ],
 "metadata": {
  "kernelspec": {
   "display_name": "Python 3 (ipykernel)",
   "language": "python",
   "name": "python3"
  },
  "language_info": {
   "codemirror_mode": {
    "name": "ipython",
    "version": 3
   },
   "file_extension": ".py",
   "mimetype": "text/x-python",
   "name": "python",
   "nbconvert_exporter": "python",
   "pygments_lexer": "ipython3",
   "version": "3.8.12"
  }
 },
 "nbformat": 4,
 "nbformat_minor": 5
}
